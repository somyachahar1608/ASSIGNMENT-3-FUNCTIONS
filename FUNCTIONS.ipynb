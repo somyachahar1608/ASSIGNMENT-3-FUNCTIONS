{
  "nbformat": 4,
  "nbformat_minor": 0,
  "metadata": {
    "colab": {
      "provenance": []
    },
    "kernelspec": {
      "name": "python3",
      "display_name": "Python 3"
    },
    "language_info": {
      "name": "python"
    }
  },
  "cells": [
    {
      "cell_type": "markdown",
      "source": [
        "# FUNCTIONS"
      ],
      "metadata": {
        "id": "31oJUgctnD_v"
      }
    },
    {
      "cell_type": "markdown",
      "source": [
        "1. What is the difference between a function and a method in Python?\n",
        "\n",
        "   >Functions are independent, while methods are dependent on a class/object.\n",
        "Methods implicitly receive self: (the object instance) as their first argument, while functions do not have this inherent first argument.\n",
        "Methods are called on an object: using dot notation (e.g., object.method( )), while functions are called directly by their name (e.g., function( ))."
      ],
      "metadata": {
        "id": "nTbMuugEnJ3T"
      }
    },
    {
      "cell_type": "markdown",
      "source": [
        "2. Explain the concept of function arguments and parameters in Python.\n",
        "\n",
        "   >Parameters:\n",
        "These are the variables defined within the parentheses of a function's definition. They act as placeholders for the values that the function expects to receive when it is called. Parameters define the type and number of inputs a function can accept.\n",
        "\n",
        "  >Arguments:\n",
        "These are the actual values or expressions passed into a function when it is called. The arguments are assigned to the corresponding parameters in the function's definition.\n",
        "\n",
        "  >def greet(name, age):\n",
        "\n",
        "    \"\"\"\n",
        "    This function takes a name and age as parameters and prints a greeting.\n",
        "    \"\"\"\n",
        "\n",
        "    print(f\"Hello, {name}! You are {age} years old.\")\n",
        "\n",
        " Calling the function with arguments\n",
        "\n",
        "  greet(\"Alice\", 30)\n",
        "\n",
        "  greet(\"Bob\", 25)"
      ],
      "metadata": {
        "id": "8LvxQ1CznLcG"
      }
    },
    {
      "cell_type": "markdown",
      "source": [
        "3. What are the different ways to define and call a function in Python?\n",
        "\n",
        "   >The standard way to define a function in Python is using the def keyword, followed by the function name, parentheses (), an optional list of parameters inside the parentheses, and a colon :. The function's body is indented below this line."
      ],
      "metadata": {
        "id": "UDqhxqWfnLqG"
      }
    },
    {
      "cell_type": "markdown",
      "source": [
        "4. What is the purpose of the `return` statement in a Python function?\n",
        "\n",
        "   >When a return statement is encountered within a function, the function's execution immediately terminates. Any code following the return statement within that function will not be executed.\n",
        "\n",
        "   >the return statement can optionally be followed by an expression, which represents the value(s) the function will send back to the caller. This returned value can be assigned to a variable, used in further calculations, or passed as an argument to another function."
      ],
      "metadata": {
        "id": "r4CuGxQTnLyq"
      }
    },
    {
      "cell_type": "markdown",
      "source": [
        "5. What are iterators in Python and how do they differ from iterables?\n",
        "\n",
        "   >Iterators control loops, allowing you to traverse arbitrary data containers one item at a time. Iterables, on the other hand, provide the data that you want to iterate over."
      ],
      "metadata": {
        "id": "Dgs7thj4nMcW"
      }
    },
    {
      "cell_type": "markdown",
      "source": [
        "6. Explain the concept of generators in Python and how they are defined.\n",
        "\n",
        "   >In Python, a generator is a special type of iterator that produces a sequence of values on demand, rather than storing them all in memory at once. This makes them memory-efficient, especially when dealing with large datasets or infinite sequences."
      ],
      "metadata": {
        "id": "jJ9S34DjnMsi"
      }
    },
    {
      "cell_type": "markdown",
      "source": [
        "7. What are the advantages of using generators over regular functions?\n",
        "\n",
        "   >Unlike a regular function, a generator does not return its results all at once. Instead, it yields its values one by one, each time it is called. This makes it possible to generate an infinite sequence of values, as long as there is sufficient memory to store them."
      ],
      "metadata": {
        "id": "qnfbuhMbnM7R"
      }
    },
    {
      "cell_type": "markdown",
      "source": [
        "8. What is a lambda function in Python and when is it typically used?\n",
        "\n",
        "   >In Python, a lambda function is a small, anonymous function defined using the lambda keyword. It can take any number of arguments but can only have one expression. Lambda functions are typically used for short, concise operations, especially when passing functions as arguments to higher-order functions like map, filter, or reduce."
      ],
      "metadata": {
        "id": "80cx-vU9nNJY"
      }
    },
    {
      "cell_type": "markdown",
      "source": [
        "9. Explain the purpose and usage of the `map()` function in Python.\n",
        "\n",
        "   >The map() function in Python is a built-in higher-order function that applies a given function to each item of an iterable (e.g., a list, tuple, or set) and returns an iterator that yields the results.\n",
        "\n",
        "   >Purpose:\n",
        "The primary purpose of map() is to transform or process elements within an iterable without explicitly writing a for loop. It provides a concise and often more efficient way to perform element-wise operations on sequences.\n",
        "\n",
        "   >Usage:\n",
        "The syntax for map() is:\n",
        "\n",
        "   >map(function, iterable, ...)\n"
      ],
      "metadata": {
        "id": "JYQ-z2Y6nNXJ"
      }
    },
    {
      "cell_type": "markdown",
      "source": [
        "10. What is the difference between `map()`, `reduce()`, and `filter()` functions in Python?\n",
        "\n",
        "   >1. map(function, iterable): This function applies a given function to every item in an iterable (like a list, tuple, etc.) and returns a map object (an iterator) containing the results. It is used for transformation, where you want to create a new iterable by applying a specific operation to each element of an existing one.\n",
        "\n",
        "   >example:\n",
        "   \n",
        "    >numbers = [1, 2, 3, 4]\n",
        "    squared_numbers = list(map(lambda x: x * x, numbers))\n",
        "    squared_numbers will be [1, 4, 9, 16]\n",
        "\n",
        "    >2. filter(function, iterable): This function constructs an iterator from elements of an iterable for which the function returns True. The function in filter() must return a boolean value. It is used for selection, where you want to extract a subset of elements from an iterable based on a specific condition.>\n",
        "\n",
        "    >Eample:\n",
        "    \n",
        "    >numbers = [1, 2, 3, 4, 5, 6]\n",
        "    even_numbers = list(filter(lambda x: x % 2 == 0, numbers))\n",
        "    \n",
        "    >even_numbers will be [2, 4, 6]\n",
        "\n",
        "    >3. reduce(function, iterable[, initializer]): This function, found in the functools module, applies a function of two arguments cumulatively to the items of an iterable, from left to right, so as to reduce the iterable to a single value. It is used for aggregation, where you want to combine all elements of an iterable into a single result.\n",
        "\n",
        "    >    from functools import reduce\n",
        "\n",
        "     >numbers = [1, 2, 3, 4]\n",
        "    sum_of_numbers = reduce(lambda x, y: x + y, numbers)\n",
        "    \n",
        "    >sum_of_numbers will be 10"
      ],
      "metadata": {
        "id": "g2rJitgInNk3"
      }
    },
    {
      "cell_type": "markdown",
      "source": [
        "11. Using pen & Paper write the internal mechanism for sum operation using  reduce function on this given\n",
        "list:[47,11,42,13]\n",
        "\n",
        "   >reduce(lambda x, y: x + y, [47, 11, 42, 13])\n",
        "\n",
        "   >((47 + 11) + 42) + 13 = 113\n",
        "\n",
        "   >1. Initialization:\n",
        "If no initial value is given, reduce takes the first element of the list (47) as the initial accumulator.\n",
        "   >2. First step:\n",
        "The accumulator (47) is added to the second element (11), resulting in 58. The accumulator is updated to 58.\n",
        "   >3. Second step:\n",
        "The accumulator (58) is added to the third element (42), resulting in 100. The accumulator is updated to 100.\n",
        "   >4. Third step:\n",
        "The accumulator (100) is added to the fourth element (13), resulting in 113. The accumulator is updated to 113.\n",
        "   >5. Final Result:\n",
        "The final value of the accumulator (113) is the result of the reduce operation."
      ],
      "metadata": {
        "id": "D3YfCJEynNyl"
      }
    },
    {
      "cell_type": "markdown",
      "source": [
        "# practical Questions"
      ],
      "metadata": {
        "id": "w4DODD_anOAK"
      }
    },
    {
      "cell_type": "markdown",
      "source": [
        "1. Write a Python function that takes a list of numbers as input and returns the sum of all even numbers in\n",
        "the list."
      ],
      "metadata": {
        "id": "WPIQ42tEnOfg"
      }
    },
    {
      "cell_type": "code",
      "source": [
        "def sum_even_numbers(numbers_list):\n",
        "    even_sum = 0\n",
        "    for number in numbers_list:\n",
        "        if number % 2 == 0:\n",
        "            even_sum += number\n",
        "    return even_sum\n",
        "\n",
        "# Example usage:\n",
        "my_list = [1, 2, 3, 4, 5, 6, 7, 8, 9, 10]\n",
        "result = sum_even_numbers(my_list)\n",
        "print(f\"The sum of even numbers in the list is: {result}\")"
      ],
      "metadata": {
        "colab": {
          "base_uri": "https://localhost:8080/"
        },
        "id": "0x0HoCQ5wrKf",
        "outputId": "218bc63d-7c38-4d3d-f3f3-844b5cfae3e8"
      },
      "execution_count": 10,
      "outputs": [
        {
          "output_type": "stream",
          "name": "stdout",
          "text": [
            "The sum of even numbers in the list is: 30\n"
          ]
        }
      ]
    },
    {
      "cell_type": "markdown",
      "source": [
        "2. Create a Python function that accepts a string and returns the reverse of that string"
      ],
      "metadata": {
        "id": "bfeNCDYqyVBK"
      }
    },
    {
      "cell_type": "code",
      "source": [
        "def reverse_string(input_string):\n",
        "  return input_string[::-1]\n",
        "\n",
        "# Example usage:\n",
        "original_text = \"Hello, World!\"\n",
        "reversed_text = reverse_string(original_text)\n",
        "print(f\"Original string: {original_text}\")\n",
        "print(f\"Reversed string: {reversed_text}\")"
      ],
      "metadata": {
        "colab": {
          "base_uri": "https://localhost:8080/"
        },
        "id": "CZrT_12Tx6dA",
        "outputId": "e40a22be-aedd-4d87-ea5a-bb2191dc7c97"
      },
      "execution_count": 11,
      "outputs": [
        {
          "output_type": "stream",
          "name": "stdout",
          "text": [
            "Original string: Hello, World!\n",
            "Reversed string: !dlroW ,olleH\n"
          ]
        }
      ]
    },
    {
      "cell_type": "markdown",
      "source": [
        "3.  Implement a Python function that takes a list of integers and returns a new list containing the squares of\n",
        "each number."
      ],
      "metadata": {
        "id": "hqyOm1kNzAcG"
      }
    },
    {
      "cell_type": "code",
      "source": [
        "numbers = [1, 2, 3, 4, 5]\n",
        "def square_list(numbers):\n",
        "  squared_numbers = [number**2 for number in numbers]\n",
        "  return squared_numbers\n",
        "\n",
        "squared_numbers = square_list(numbers)\n",
        "print(squared_numbers)"
      ],
      "metadata": {
        "colab": {
          "base_uri": "https://localhost:8080/"
        },
        "id": "z-lMeoJoy3bP",
        "outputId": "bc36c26f-a225-4824-c145-a627e0105cce"
      },
      "execution_count": 14,
      "outputs": [
        {
          "output_type": "stream",
          "name": "stdout",
          "text": [
            "[1, 4, 9, 16, 25]\n"
          ]
        }
      ]
    },
    {
      "cell_type": "markdown",
      "source": [
        "4. Write a Python function that checks if a given number is prime or not from 1 to 200."
      ],
      "metadata": {
        "id": "sR75zhVs0L-n"
      }
    },
    {
      "cell_type": "code",
      "source": [
        "def is_prime(number):\n",
        "    if not (1 <= number <= 200):\n",
        "        print(\"Input number is outside the range of 1 to 200.\")\n",
        "        return False\n",
        "\n",
        "    if number <= 1:\n",
        "        return False\n",
        "    elif number == 2:\n",
        "        return True\n",
        "    elif number % 2 == 0:\n",
        "        return False\n",
        "    for i in range(3, int(math.sqrt(number)) + 1, 2):\n",
        "        if number % i == 0:\n",
        "            return False\n",
        "    return True"
      ],
      "metadata": {
        "id": "qIvClbxszwCR"
      },
      "execution_count": 15,
      "outputs": []
    },
    {
      "cell_type": "markdown",
      "source": [
        "5. Create an iterator class in Python that generates the Fibonacci sequence up to a specified number of\n",
        "terms."
      ],
      "metadata": {
        "id": "b5haj1JO0vqd"
      }
    },
    {
      "cell_type": "code",
      "source": [
        "def __init__(self, num_terms):\n",
        "\n",
        "        if not isinstance(num_terms, int) or num_terms < 0:\n",
        "            raise ValueError\n",
        "        self._num_terms = num_terms\n",
        "        self._current_term = 0\n",
        "        self._a = 0\n",
        "        self._b = 1\n",
        "\n",
        "def __iter__(self):\n",
        "        return self\n",
        "def __next__(self):\n",
        "        if self._current_term < self._num_terms:\n",
        "            if self._current_term == 0:\n",
        "                self._current_term += 1\n",
        "                return self._a\n",
        "            elif self._current_term == 1:\n",
        "                self._current_term += 1\n",
        "                return self._b\n",
        "            else:\n",
        "                next_fib = self._a + self._b\n",
        "                self._a = self._b\n",
        "                self._b = next_fib\n",
        "                self._current_term += 1\n",
        "                return next_fib\n",
        "        else:\n",
        "            raise StopIteration\n"
      ],
      "metadata": {
        "id": "QimIsmPH0tmu"
      },
      "execution_count": 16,
      "outputs": []
    },
    {
      "cell_type": "markdown",
      "source": [
        "6. Write a generator function in Python that yields the powers of 2 up to a given exponent."
      ],
      "metadata": {
        "id": "dVQe-IAb1hPh"
      }
    },
    {
      "cell_type": "code",
      "source": [
        "def powers_of_two_generator(max_exponent):\n",
        "    if not isinstance(max_exponent, int) or max_exponent < 0:\n",
        "        raise ValueError\n",
        "    for exponent in range(max_exponent + 1):\n",
        "        yield 2 ** exponent"
      ],
      "metadata": {
        "id": "BNK1L_TZ1nW4"
      },
      "execution_count": 17,
      "outputs": []
    },
    {
      "cell_type": "markdown",
      "source": [
        "7.  Implement a generator function that reads a file line by line and yields each line as a string."
      ],
      "metadata": {
        "id": "7r9kkXC31xDm"
      }
    },
    {
      "cell_type": "code",
      "source": [
        "def read_file_line_by_line(file_path):\n",
        "    try:\n",
        "        with open(file_path, 'r') as file:\n",
        "            for line in file:\n",
        "                yield line.strip('\\n')\n",
        "    except FileNotFoundError:\n",
        "        print(f\"Error: The file at '{file_path}' was not found.\")\n",
        "    except Exception as e:\n",
        "        print(f\"An error occurred while reading the file: {e}\")\n",
        "\n",
        "# Example Usage:\n",
        "if __name__ == \"__main__\":\n",
        "    # Create a dummy file for demonstration\n",
        "    with open(\"sample.txt\", \"w\") as f:\n",
        "        f.write(\"Line 1 of the file.\\n\")\n",
        "        f.write(\"Second line here.\\n\")\n",
        "        f.write(\"This is the third line.\")\n",
        "\n",
        "    print(\"Reading 'sample.txt' line by line:\")\n",
        "    for line in read_file_line_by_line(\"sample.txt\"):\n",
        "        print(line)\n",
        "\n",
        "    print(\"\\nAttempting to read a non-existent file:\")\n",
        "    for line in read_file_line_by_line(\"non_existent_file.txt\"):\n",
        "        print(line)"
      ],
      "metadata": {
        "colab": {
          "base_uri": "https://localhost:8080/"
        },
        "id": "oeTjTaS21vsr",
        "outputId": "386c6a3a-adc3-4c41-b004-47621eaacba0"
      },
      "execution_count": 18,
      "outputs": [
        {
          "output_type": "stream",
          "name": "stdout",
          "text": [
            "Reading 'sample.txt' line by line:\n",
            "Line 1 of the file.\n",
            "Second line here.\n",
            "This is the third line.\n",
            "\n",
            "Attempting to read a non-existent file:\n",
            "Error: The file at 'non_existent_file.txt' was not found.\n"
          ]
        }
      ]
    },
    {
      "cell_type": "markdown",
      "source": [
        "8.  Use a lambda function in Python to sort a list of tuples based on the second element of each tuple"
      ],
      "metadata": {
        "id": "pxMaV8Pm2HOi"
      }
    },
    {
      "cell_type": "code",
      "source": [
        "data = [('apple', 3), ('banana', 1), ('cherry', 2)]\n",
        "sorted_data = sorted(data, key=lambda x: x[1])\n",
        "print(sorted_data)\n",
        "data = [('apple', 3), ('banana', 1), ('cherry', 2)]\n",
        "data.sort(key=lambda x: x[1])\n",
        "print(data)"
      ],
      "metadata": {
        "colab": {
          "base_uri": "https://localhost:8080/"
        },
        "id": "QOKwEriV2DZ9",
        "outputId": "878a5ebb-48ae-41d4-9ff3-f28bbf5168c1"
      },
      "execution_count": 19,
      "outputs": [
        {
          "output_type": "stream",
          "name": "stdout",
          "text": [
            "[('banana', 1), ('cherry', 2), ('apple', 3)]\n",
            "[('banana', 1), ('cherry', 2), ('apple', 3)]\n"
          ]
        }
      ]
    },
    {
      "cell_type": "markdown",
      "source": [
        "9. Write a Python program that uses `map()` to convert a list of temperatures from Celsius to Fahrenheit"
      ],
      "metadata": {
        "id": "Iiuhr3As2fZ3"
      }
    },
    {
      "cell_type": "code",
      "source": [
        "def celsius_to_fahrenheit(celsius):\n",
        "  return (celsius * 9/5) + 32\n",
        "\n",
        "def convert_temperatures(celsius_list):\n",
        "    fahrenheit_list = list(map(celsius_to_fahrenheit, celsius_list))\n",
        "    return fahrenheit_list\n",
        "\n",
        "\n",
        "# Example usage:\n",
        "celsius_temperatures = [0, 10, 20, 30, 100]\n",
        "fahrenheit_temperatures = convert_temperatures(celsius_temperatures)\n",
        "\n",
        "print(f\"Celsius temperatures: {celsius_temperatures}\")\n",
        "print(f\"Fahrenheit temperatures: {fahrenheit_temperatures}\")"
      ],
      "metadata": {
        "id": "T0mqhHJk5ksn"
      },
      "execution_count": null,
      "outputs": []
    },
    {
      "cell_type": "markdown",
      "source": [
        "10. Create a Python program that uses `filter()` to remove all the vowels from a given string"
      ],
      "metadata": {
        "id": "BW0I3BJM5ra9"
      }
    },
    {
      "cell_type": "code",
      "source": [
        "string = \"PrepInsta\"\n",
        "\n",
        "vowels = ['a', 'e', 'i', 'o', 'u', 'A', 'E', 'I', 'O', 'U']\n",
        "result = \"\"\n",
        "\n",
        "for i in range(len(string)):\n",
        "    if string[i] not in vowels:\n",
        "        result = result + string[i]\n",
        "\n",
        "print(\"\\nAfter removing Vowels: \", result)"
      ],
      "metadata": {
        "colab": {
          "base_uri": "https://localhost:8080/"
        },
        "id": "prfLpffR5wix",
        "outputId": "6c5c057c-a9d9-4195-b100-8176a432c02d"
      },
      "execution_count": 23,
      "outputs": [
        {
          "output_type": "stream",
          "name": "stdout",
          "text": [
            "\n",
            "After removing Vowels:  Prpnst\n"
          ]
        }
      ]
    },
    {
      "cell_type": "markdown",
      "source": [
        "11. Imagine an accounting routine used in a book shop. It works on a list with sublists, which look like this:\n",
        "Write a Python program, which returns a list with 2-tuples. Each tuple consists of the order number and the\n",
        "product of the price per item and the quantity. The product should be increased by 10,- € if the value of the\n",
        "order is smaller than 100,00 €. Write a Python program using lambda and map."
      ],
      "metadata": {
        "id": "Jykc5aGK6D0-"
      }
    },
    {
      "cell_type": "code",
      "source": [
        "# Original book order data\n",
        "orders = [\n",
        "    [34587, \"Learning Python, Mark Lutz\", 4, 40.95],\n",
        "    [98762, \"Programming Python, Mark Lutz\", 5, 56.80],\n",
        "    [77226, \"Head First Python, Paul Barry\", 3, 32.95],\n",
        "    [88112, \"Einführung in Python3, Bernd Klein\", 3, 24.99]\n",
        "]\n",
        "\n",
        "# Using map and lambda to create the 2-tuples\n",
        "result = (map(lambda order:(\n",
        "    order[0],\n",
        "    order[2] * order[3] + (10 if order[2] * order[3] < 100 else 0)\n",
        "), orders))\n",
        "\n",
        "print(result)\n"
      ],
      "metadata": {
        "colab": {
          "base_uri": "https://localhost:8080/"
        },
        "id": "QwRkmyDp7oL_",
        "outputId": "76219e1a-3223-424e-efb7-f0b93907d80c"
      },
      "execution_count": 29,
      "outputs": [
        {
          "output_type": "stream",
          "name": "stdout",
          "text": [
            "<map object at 0x7f175265c970>\n"
          ]
        }
      ]
    }
  ]
}